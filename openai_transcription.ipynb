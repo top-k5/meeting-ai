{
 "cells": [
  {
   "cell_type": "code",
   "execution_count": 2,
   "metadata": {},
   "outputs": [],
   "source": [
    "import src\n",
    "from openai import OpenAI\n",
    "import os\n",
    "import time\n",
    "import pandas as pd"
   ]
  },
  {
   "cell_type": "code",
   "execution_count": 45,
   "metadata": {},
   "outputs": [],
   "source": [
    "def transcribe(audio_file_path: str):\n",
    "    base_name = os.path.basename(audio_file_path).split('.')[0]\n",
    "\n",
    "    try:\n",
    "        print(f'ファイル読み込み中: {base_name}')\n",
    "        # with open(audio_file_path, \"rb\") as file:\n",
    "        #     buffer_data = file.read()\n",
    "        # payload: FileSource = {\n",
    "        #     \"buffer\": buffer_data,\n",
    "        # }\n",
    "        audio_file = open(src.AUDIO_FILE_PATH, \"rb\")\n",
    "\n",
    "        start_time = time.perf_counter()\n",
    "        print(f'文字起こし中...')\n",
    "        # 結果を取得\n",
    "        client = OpenAI()\n",
    "        prompt = \"この音声は、WEB会議（Teasm）の音声（日本語）です。「えー」「えっと」「えーっと」「あー」「そのー」「んーと」などのような、フィラーや言葉のひげと呼ばれる音声も省略せずに、発言を全てを文字起こししてください。\"\n",
    "\n",
    "        transcription = client.audio.transcriptions.create(\n",
    "            model=\"gpt-4o-mini-transcribe\", \n",
    "            file=audio_file, \n",
    "            prompt=prompt,\n",
    "            # response_format=\"text\"\n",
    "        )\n",
    "\n",
    "        # transcription = client.audio.transcriptions.create(\n",
    "        # file=audio_file,\n",
    "        # model=\"whisper-1\",\n",
    "        # response_format=\"verbose_json\",\n",
    "        # # timestamp_granularities=[\"segment\"],\n",
    "        # # prompt=prompt\n",
    "        # )\n",
    "\n",
    "\n",
    "        # print(transcription.text)  \n",
    "\n",
    "        end_time = time.perf_counter()\n",
    "\n",
    "        # for u in response.results.utterances:\n",
    "        #     print(f\"[Speaker: {u.speaker}] {u.transcript}\")\n",
    "                \n",
    "        run_time = end_time - start_time\n",
    "        print(f\"実行時間: {run_time:.2f}秒\")\n",
    "\n",
    "    except Exception as e:\n",
    "        print(f\"Exception: {e}\")\n",
    "\n",
    "    # df_structured = pd.DataFrame(response.results.utterances)\n",
    "    # df_structured.drop(columns=[\"channel\",  \"words\", \"sentiment\", \"sentiment_score\", \"id\"], inplace=True)\n",
    "\n",
    "    # print(f'文字起こし結果を保存中...')\n",
    "    # df_structured.to_csv(f\"{PROCESSED_DIR}/structured_{base_name}.csv\", index=False)\n",
    "    return transcription"
   ]
  },
  {
   "cell_type": "code",
   "execution_count": 46,
   "metadata": {},
   "outputs": [
    {
     "name": "stdout",
     "output_type": "stream",
     "text": [
      "ファイル読み込み中: sample_meeting\n",
      "文字起こし中...\n",
      "実行時間: 4.20秒\n"
     ]
    }
   ],
   "source": [
    "result = transcribe(src.AUDIO_FILE_PATH)"
   ]
  },
  {
   "cell_type": "code",
   "execution_count": 47,
   "metadata": {},
   "outputs": [
    {
     "data": {
      "text/plain": [
       "Transcription(text='そもそもハウリングするから、そうだね。あ、すげえ。俺が今聞いた。チームズはそもそもトランスクリプトがあるらしい。すげえっていうかさ、これあれだね。まずこのチームズのこのトランスクリプトは別に使わないのか。これもなんかファイルとして出力することはできるらしい。できるけどあくまで録画データだもんね、俺らが。音声データっていうか。そうだね。で、この音声はどこに保存されるの?録音を中止します。どこで録音中止。後で。', logprobs=None)"
      ]
     },
     "execution_count": 47,
     "metadata": {},
     "output_type": "execute_result"
    }
   ],
   "source": [
    "result"
   ]
  },
  {
   "cell_type": "code",
   "execution_count": 41,
   "metadata": {},
   "outputs": [
    {
     "data": {
      "text/plain": [
       "TranscriptionVerbose(duration=53.95000076293945, language='japanese', text='そもそもハウリングするから そうだね すげえ 俺が今聞いた チームズはそもそもトランスクリプトがあるらしい すげえっていうかさ、これあれだね まずこのチームズ 違うか、チームズのこのトランスクリプトは別に使わないのか これもファイルド出色することはできるらしい できるけどあくまで録画データだもんね、俺らが使うの 音声データっていうか そうだね で、この音声はどこに保存されるの? 録音を中止します どこだよ、録音中止', segments=[TranscriptionSegment(id=0, avg_logprob=-0.24258580803871155, compression_ratio=1.8035714626312256, end=4.0, no_speech_prob=0.12395759671926498, seek=0, start=0.0, temperature=0.0, text='そもそもハウリングするから', tokens=[50364, 5040, 4801, 5040, 4801, 15927, 20745, 12376, 43017, 22570, 11046, 50564]), TranscriptionSegment(id=1, avg_logprob=-0.24258580803871155, compression_ratio=1.8035714626312256, end=5.0, no_speech_prob=0.12395759671926498, seek=0, start=4.0, temperature=0.0, text='そうだね', tokens=[50564, 39471, 5555, 50614]), TranscriptionSegment(id=2, avg_logprob=-0.24258580803871155, compression_ratio=1.8035714626312256, end=7.0, no_speech_prob=0.12395759671926498, seek=0, start=5.0, temperature=0.0, text='すげえ', tokens=[50614, 2659, 26012, 6474, 50714]), TranscriptionSegment(id=3, avg_logprob=-0.24258580803871155, compression_ratio=1.8035714626312256, end=9.0, no_speech_prob=0.12395759671926498, seek=0, start=7.0, temperature=0.0, text='俺が今聞いた', tokens=[50714, 37334, 5142, 6480, 25468, 17679, 50814]), TranscriptionSegment(id=4, avg_logprob=-0.24258580803871155, compression_ratio=1.8035714626312256, end=14.0, no_speech_prob=0.12395759671926498, seek=0, start=9.0, temperature=0.0, text='チームズはそもそもトランスクリプトがあるらしい', tokens=[50814, 17794, 44265, 29061, 3065, 5040, 4801, 5040, 4801, 7588, 11353, 4824, 9550, 10825, 12376, 20953, 7588, 5142, 24719, 5154, 17121, 51064]), TranscriptionSegment(id=5, avg_logprob=-0.24258580803871155, compression_ratio=1.8035714626312256, end=19.0, no_speech_prob=0.12395759671926498, seek=0, start=14.0, temperature=0.0, text='すげえっていうかさ、これあれだね', tokens=[51064, 2659, 26012, 6474, 46896, 3703, 6722, 1231, 9329, 30659, 5362, 5555, 51314]), TranscriptionSegment(id=6, avg_logprob=-0.24258580803871155, compression_ratio=1.8035714626312256, end=23.0, no_speech_prob=0.12395759671926498, seek=0, start=19.0, temperature=0.0, text='まずこのチームズ', tokens=[51314, 34690, 13303, 17794, 44265, 29061, 51514]), TranscriptionSegment(id=7, avg_logprob=-0.24258580803871155, compression_ratio=1.8035714626312256, end=27.0, no_speech_prob=0.12395759671926498, seek=0, start=23.0, temperature=0.0, text='違うか、チームズのこのトランスクリプトは別に使わないのか', tokens=[51514, 49806, 3703, 1231, 17794, 44265, 29061, 2972, 13303, 7588, 11353, 4824, 9550, 10825, 12376, 20953, 7588, 3065, 16158, 4108, 22982, 9206, 9311, 2972, 3703, 51714]), TranscriptionSegment(id=8, avg_logprob=-0.1856854110956192, compression_ratio=1.52173912525177, end=31.0, no_speech_prob=0.11593891680240631, seek=2700, start=27.0, temperature=0.0, text='これもファイルド出色することはできるらしい', tokens=[50364, 9329, 4801, 17320, 36151, 8040, 9405, 11195, 7781, 17673, 22570, 13235, 3065, 43200, 4895, 5154, 17121, 50564]), TranscriptionSegment(id=9, avg_logprob=-0.1856854110956192, compression_ratio=1.52173912525177, end=35.0, no_speech_prob=0.11593891680240631, seek=2700, start=31.0, temperature=0.0, text='できるけどあくまで録画データだもんね、俺らが使うの', tokens=[50564, 43200, 4895, 21891, 3590, 6134, 28176, 43777, 27126, 31327, 3384, 12144, 5362, 4801, 3225, 5555, 1231, 37334, 5154, 5142, 22982, 2646, 2972, 50764]), TranscriptionSegment(id=10, avg_logprob=-0.1856854110956192, compression_ratio=1.52173912525177, end=37.0, no_speech_prob=0.11593891680240631, seek=2700, start=35.0, temperature=0.0, text='音声データっていうか', tokens=[50764, 18034, 32045, 31327, 3384, 12144, 46896, 3703, 50864]), TranscriptionSegment(id=11, avg_logprob=-0.1856854110956192, compression_ratio=1.52173912525177, end=39.0, no_speech_prob=0.11593891680240631, seek=2700, start=37.0, temperature=0.0, text='そうだね', tokens=[50864, 39471, 5555, 50964]), TranscriptionSegment(id=12, avg_logprob=-0.1856854110956192, compression_ratio=1.52173912525177, end=43.0, no_speech_prob=0.11593891680240631, seek=2700, start=39.0, temperature=0.0, text='で、この音声はどこに保存されるの?', tokens=[50964, 2474, 1231, 13303, 18034, 32045, 3065, 7594, 3503, 4108, 24302, 39781, 6722, 35367, 2972, 30, 51164]), TranscriptionSegment(id=13, avg_logprob=-0.1856854110956192, compression_ratio=1.52173912525177, end=47.0, no_speech_prob=0.11593891680240631, seek=2700, start=43.0, temperature=0.0, text='録音を中止します', tokens=[51164, 43777, 18034, 5998, 5975, 30438, 17048, 51364]), TranscriptionSegment(id=14, avg_logprob=-0.1856854110956192, compression_ratio=1.52173912525177, end=51.0, no_speech_prob=0.11593891680240631, seek=2700, start=47.0, temperature=0.0, text='どこだよ、録音中止', tokens=[51364, 7594, 3503, 5362, 5591, 1231, 43777, 18034, 5975, 30438, 51564])], words=None, task='transcribe')"
      ]
     },
     "execution_count": 41,
     "metadata": {},
     "output_type": "execute_result"
    }
   ],
   "source": [
    "result"
   ]
  },
  {
   "cell_type": "code",
   "execution_count": null,
   "metadata": {},
   "outputs": [],
   "source": []
  }
 ],
 "metadata": {
  "kernelspec": {
   "display_name": ".venv",
   "language": "python",
   "name": "python3"
  },
  "language_info": {
   "codemirror_mode": {
    "name": "ipython",
    "version": 3
   },
   "file_extension": ".py",
   "mimetype": "text/x-python",
   "name": "python",
   "nbconvert_exporter": "python",
   "pygments_lexer": "ipython3",
   "version": "3.12.9"
  }
 },
 "nbformat": 4,
 "nbformat_minor": 2
}
