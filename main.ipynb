{
 "cells": [
  {
   "cell_type": "code",
   "execution_count": 1,
   "metadata": {},
   "outputs": [],
   "source": [
    "import src"
   ]
  },
  {
   "cell_type": "code",
   "execution_count": 3,
   "metadata": {},
   "outputs": [
    {
     "name": "stdout",
     "output_type": "stream",
     "text": [
      "ファイル読み込み中: sample_meeting\n",
      "文字起こし中...\n",
      "[Speaker: 0] そ\n",
      "[Speaker: 0] も そ も ハ ウ リ ング する から そうだ ね\n",
      "[Speaker: 0] あ 、 す げ え\n",
      "[Speaker: 0] 俺 が 今 聞 いた\n",
      "[Speaker: 0] チ ーム ズ は そ も そ も ト ラ ン ス ク リ プ ト が ある ら しい\n",
      "[Speaker: 0] す げ え っていう か さ 、 これ あれ だ ね 。\n",
      "[Speaker: 0] まず この\n",
      "[Speaker: 0] te ams\n",
      "[Speaker: 0] の この ト ラ ン ス ク リ プ ト は 別 に 使 わ ない の か 。\n",
      "[Speaker: 0] これ も フ ァ イ ル と して 出 色 する こと は でき る ら しい 。 でき る けど あ く まで 録 画 デ ー タ だ も ん ね 、 俺 ら が 使 う のは 。 音 声 デ ー タ っていう か 。 そうだ ね\n",
      "[Speaker: 0] 。 で 、 この 音 声 は ど こ に 保 存 さ れる んだ\n",
      "[Speaker: 0] 録 音 を 中 止 します\n",
      "[Speaker: 0] 。 ど こ だ よ 、 録 音 中 止 。 ど こ で 録 音 中 止\n",
      "[Speaker: 0] 後 で\n",
      "実行時間: 7.96秒\n",
      "文字起こし結果を保存中...\n"
     ]
    }
   ],
   "source": [
    "src.transcribe(src.AUDIO_FILE_PATH)"
   ]
  },
  {
   "cell_type": "code",
   "execution_count": 2,
   "metadata": {},
   "outputs": [
    {
     "name": "stdout",
     "output_type": "stream",
     "text": [
      "ファイル読み込み中: sample_meeting\n",
      "文字起こし中...\n",
      "実行時間: 5.16秒\n",
      "Transcription(text='そもそもハウリングするから。そうだね。あ、すげえ。俺が今聞いた。そうなんかTeamsはそもそもトランスクリプトがあるらしい。すげえっていうかさ、これあれだね。まずこのTeamsのこのトランスクリプトは別に使わないのか。これもなんかファイルとして記録することはできるらしい。できるけどあくまで録画データだもんね俺らが。音声データっていうか。そうだね。でこの音声はどこに保存されるの?録音を中止します。どこで録音中止?後で。', logprobs=None)\n"
     ]
    }
   ],
   "source": [
    "src.transcribe_openai(src.AUDIO_FILE_PATH)"
   ]
  },
  {
   "cell_type": "code",
   "execution_count": 3,
   "metadata": {},
   "outputs": [
    {
     "name": "stdout",
     "output_type": "stream",
     "text": [
      "文字起こしデータの読み込み中...\n",
      "各発言に対してチェーンの実行中...\n",
      "発言: では、来季の予算会議を始めます。各部署からの報告をお願いします。まずは佐藤さん、全体の見通しをお願いします。\n",
      "結論ファーストフラグ: 0\n",
      "\n",
      "発言: はい。来季の全体予算案につきまして、ご説明いたします。売上高は前年比5%増の850億円、営業利益は7%増の68億円を見込んでおります。為替レートは1ドル110円で試算しています。\n",
      "結論ファーストフラグ: 1\n",
      "\n",
      "発言: なるほど。前年よりも成長を見込んでいるわけですね。各部門の詳細をお聞きしましょう。鈴木さん、研究開発部門からお願いします。\n",
      "結論ファーストフラグ: 0\n",
      "\n",
      "発言: はい。研究開発費は総額で95億円を計画しています。これは前年比8%増です。主な増加要因は、新規バイオ素材の開発プロジェクトと、既存製品の環境負荷低減研究です。\n",
      "結論ファーストフラグ: 1\n",
      "\n",
      "発言: 8%増は大きいですね。具体的にどのような成果を期待していますか？\n",
      "結論ファーストフラグ: 0\n",
      "\n",
      "発言: 新規バイオ素材については、3年以内の製品化を目指しています。環境負荷低減については、主力製品のCO2排出量を20%削減する技術の確立を目標としています。\n",
      "結論ファーストフラグ: 1\n",
      "\n",
      "発言: その環境技術は、営業的にも大きなアピールポイントになりますね。\n",
      "結論ファーストフラグ: 0\n",
      "\n",
      "発言: 確かに。では高橋さん、営業部門の計画をお願いします。\n",
      "結論ファーストフラグ: 0\n",
      "\n",
      "発言: はい。売上目標は佐藤さんの説明通り850億円です。内訳として、国内が500億円、海外が350億円を計画しています。特に注力するのは、アジア市場での拡販です。\n",
      "結論ファーストフラグ: 1\n",
      "\n",
      "発言: アジア市場にはどのくらいの伸びを見込んでいますか？\n",
      "結論ファーストフラグ: 0\n",
      "\n",
      "結果を保存中...\n"
     ]
    }
   ],
   "source": [
    "src.judge_conclusion_first()"
   ]
  },
  {
   "cell_type": "code",
   "execution_count": null,
   "metadata": {},
   "outputs": [],
   "source": []
  }
 ],
 "metadata": {
  "kernelspec": {
   "display_name": ".venv",
   "language": "python",
   "name": "python3"
  },
  "language_info": {
   "codemirror_mode": {
    "name": "ipython",
    "version": 3
   },
   "file_extension": ".py",
   "mimetype": "text/x-python",
   "name": "python",
   "nbconvert_exporter": "python",
   "pygments_lexer": "ipython3",
   "version": "3.12.9"
  }
 },
 "nbformat": 4,
 "nbformat_minor": 2
}
